{
 "cells": [
  {
   "cell_type": "code",
   "execution_count": 394,
   "metadata": {},
   "outputs": [],
   "source": [
    "import pandas as pd\n",
    "import seaborn as sns\n",
    "import matplotlib.pyplot as plt\n",
    "\n",
    "from sklearn.model_selection import train_test_split, cross_val_score, GridSearchCV, RandomizedSearchCV\n",
    "from sklearn.metrics import mean_squared_error as MSE\n",
    "from sklearn.linear_model import LinearRegression, Lasso, Ridge\n",
    "from sklearn.ensemble import RandomForestRegressor, GradientBoostingRegressor, BaggingClassifier\n",
    "from sklearn.tree import DecisionTreeRegressor\n",
    "from sklearn.preprocessing import StandardScaler\n"
   ]
  },
  {
   "cell_type": "markdown",
   "metadata": {},
   "source": [
    "# importing data"
   ]
  },
  {
   "cell_type": "code",
   "execution_count": 395,
   "metadata": {},
   "outputs": [],
   "source": [
    "df = pd.read_csv('dirty_taxi_data.csv', parse_dates=['pickup_datetime'])"
   ]
  },
  {
   "cell_type": "code",
   "execution_count": 396,
   "metadata": {},
   "outputs": [
    {
     "data": {
      "text/html": [
       "<div>\n",
       "<style scoped>\n",
       "    .dataframe tbody tr th:only-of-type {\n",
       "        vertical-align: middle;\n",
       "    }\n",
       "\n",
       "    .dataframe tbody tr th {\n",
       "        vertical-align: top;\n",
       "    }\n",
       "\n",
       "    .dataframe thead th {\n",
       "        text-align: right;\n",
       "    }\n",
       "</style>\n",
       "<table border=\"1\" class=\"dataframe\">\n",
       "  <thead>\n",
       "    <tr style=\"text-align: right;\">\n",
       "      <th></th>\n",
       "      <th>key</th>\n",
       "      <th>fare_amount</th>\n",
       "      <th>pickup_datetime</th>\n",
       "      <th>pickup_longitude</th>\n",
       "      <th>pickup_latitude</th>\n",
       "      <th>dropoff_longitude</th>\n",
       "      <th>dropoff_latitude</th>\n",
       "      <th>passenger_count</th>\n",
       "    </tr>\n",
       "  </thead>\n",
       "  <tbody>\n",
       "    <tr>\n",
       "      <th>0</th>\n",
       "      <td>2010-01-16 20:06:00.000000168</td>\n",
       "      <td>3.3</td>\n",
       "      <td>2010-01-16 20:06:00 UTC</td>\n",
       "      <td>-73.953323</td>\n",
       "      <td>40.778532</td>\n",
       "      <td>-73.953375</td>\n",
       "      <td>40.772505</td>\n",
       "      <td>error_1.0</td>\n",
       "    </tr>\n",
       "    <tr>\n",
       "      <th>1</th>\n",
       "      <td>2010-09-22 23:21:00.00000065</td>\n",
       "      <td>6.5</td>\n",
       "      <td>2010-09-22 23:21:00 UTC</td>\n",
       "      <td>-73.985542</td>\n",
       "      <td>40.738333</td>\n",
       "      <td>-74.003350</td>\n",
       "      <td>40.738935</td>\n",
       "      <td>1.0</td>\n",
       "    </tr>\n",
       "    <tr>\n",
       "      <th>2</th>\n",
       "      <td>2013-10-17 18:40:14.0000001</td>\n",
       "      <td>5.0</td>\n",
       "      <td>2013-10-17 18:40:14 UTC</td>\n",
       "      <td>-73.999945</td>\n",
       "      <td>40.718097</td>\n",
       "      <td>-73.999239</td>\n",
       "      <td>40.723103</td>\n",
       "      <td>1.0</td>\n",
       "    </tr>\n",
       "    <tr>\n",
       "      <th>3</th>\n",
       "      <td>2015-06-09 19:39:42.0000009</td>\n",
       "      <td>40.5</td>\n",
       "      <td>2015-06-09 19:39:42 UTC</td>\n",
       "      <td>-73.974533</td>\n",
       "      <td>40.756237</td>\n",
       "      <td>-73.923149</td>\n",
       "      <td>40.867210</td>\n",
       "      <td>1.0</td>\n",
       "    </tr>\n",
       "    <tr>\n",
       "      <th>4</th>\n",
       "      <td>2012-05-01 07:16:59.0000001</td>\n",
       "      <td>7.7</td>\n",
       "      <td>2012-05-01 07:16:59 UTC</td>\n",
       "      <td>-73.952835</td>\n",
       "      <td>40.786351</td>\n",
       "      <td>-73.974022</td>\n",
       "      <td>40.762765</td>\n",
       "      <td>1.0</td>\n",
       "    </tr>\n",
       "  </tbody>\n",
       "</table>\n",
       "</div>"
      ],
      "text/plain": [
       "                             key  fare_amount          pickup_datetime  \\\n",
       "0  2010-01-16 20:06:00.000000168          3.3  2010-01-16 20:06:00 UTC   \n",
       "1   2010-09-22 23:21:00.00000065          6.5  2010-09-22 23:21:00 UTC   \n",
       "2    2013-10-17 18:40:14.0000001          5.0  2013-10-17 18:40:14 UTC   \n",
       "3    2015-06-09 19:39:42.0000009         40.5  2015-06-09 19:39:42 UTC   \n",
       "4    2012-05-01 07:16:59.0000001          7.7  2012-05-01 07:16:59 UTC   \n",
       "\n",
       "   pickup_longitude  pickup_latitude  dropoff_longitude  dropoff_latitude  \\\n",
       "0        -73.953323        40.778532         -73.953375         40.772505   \n",
       "1        -73.985542        40.738333         -74.003350         40.738935   \n",
       "2        -73.999945        40.718097         -73.999239         40.723103   \n",
       "3        -73.974533        40.756237         -73.923149         40.867210   \n",
       "4        -73.952835        40.786351         -73.974022         40.762765   \n",
       "\n",
       "  passenger_count  \n",
       "0       error_1.0  \n",
       "1             1.0  \n",
       "2             1.0  \n",
       "3             1.0  \n",
       "4             1.0  "
      ]
     },
     "execution_count": 396,
     "metadata": {},
     "output_type": "execute_result"
    }
   ],
   "source": [
    "df.head()"
   ]
  },
  {
   "cell_type": "markdown",
   "metadata": {},
   "source": [
    "# check for data"
   ]
  },
  {
   "cell_type": "code",
   "execution_count": 397,
   "metadata": {},
   "outputs": [
    {
     "data": {
      "text/plain": [
       "(115000, 8)"
      ]
     },
     "execution_count": 397,
     "metadata": {},
     "output_type": "execute_result"
    }
   ],
   "source": [
    "df.shape"
   ]
  },
  {
   "cell_type": "code",
   "execution_count": 398,
   "metadata": {},
   "outputs": [
    {
     "name": "stdout",
     "output_type": "stream",
     "text": [
      "<class 'pandas.core.frame.DataFrame'>\n",
      "RangeIndex: 115000 entries, 0 to 114999\n",
      "Data columns (total 8 columns):\n",
      " #   Column             Non-Null Count   Dtype  \n",
      "---  ------             --------------   -----  \n",
      " 0   key                115000 non-null  object \n",
      " 1   fare_amount        92160 non-null   float64\n",
      " 2   pickup_datetime    115000 non-null  object \n",
      " 3   pickup_longitude   115000 non-null  float64\n",
      " 4   pickup_latitude    115000 non-null  float64\n",
      " 5   dropoff_longitude  115000 non-null  float64\n",
      " 6   dropoff_latitude   115000 non-null  float64\n",
      " 7   passenger_count    93074 non-null   object \n",
      "dtypes: float64(5), object(3)\n",
      "memory usage: 7.0+ MB\n"
     ]
    }
   ],
   "source": [
    "df.info()"
   ]
  },
  {
   "cell_type": "code",
   "execution_count": 399,
   "metadata": {},
   "outputs": [
    {
     "data": {
      "text/html": [
       "<div>\n",
       "<style scoped>\n",
       "    .dataframe tbody tr th:only-of-type {\n",
       "        vertical-align: middle;\n",
       "    }\n",
       "\n",
       "    .dataframe tbody tr th {\n",
       "        vertical-align: top;\n",
       "    }\n",
       "\n",
       "    .dataframe thead th {\n",
       "        text-align: right;\n",
       "    }\n",
       "</style>\n",
       "<table border=\"1\" class=\"dataframe\">\n",
       "  <thead>\n",
       "    <tr style=\"text-align: right;\">\n",
       "      <th></th>\n",
       "      <th>fare_amount</th>\n",
       "      <th>pickup_longitude</th>\n",
       "      <th>pickup_latitude</th>\n",
       "      <th>dropoff_longitude</th>\n",
       "      <th>dropoff_latitude</th>\n",
       "    </tr>\n",
       "  </thead>\n",
       "  <tbody>\n",
       "    <tr>\n",
       "      <th>count</th>\n",
       "      <td>92160.000000</td>\n",
       "      <td>115000.000000</td>\n",
       "      <td>115000.000000</td>\n",
       "      <td>115000.000000</td>\n",
       "      <td>115000.000000</td>\n",
       "    </tr>\n",
       "    <tr>\n",
       "      <th>mean</th>\n",
       "      <td>16.431745</td>\n",
       "      <td>-72.559159</td>\n",
       "      <td>39.946204</td>\n",
       "      <td>-72.566149</td>\n",
       "      <td>39.939186</td>\n",
       "    </tr>\n",
       "    <tr>\n",
       "      <th>std</th>\n",
       "      <td>32.339641</td>\n",
       "      <td>10.650615</td>\n",
       "      <td>6.020752</td>\n",
       "      <td>10.218077</td>\n",
       "      <td>11.215051</td>\n",
       "    </tr>\n",
       "    <tr>\n",
       "      <th>min</th>\n",
       "      <td>-25.000000</td>\n",
       "      <td>-736.400000</td>\n",
       "      <td>-74.008970</td>\n",
       "      <td>-90.239125</td>\n",
       "      <td>-3114.304848</td>\n",
       "    </tr>\n",
       "    <tr>\n",
       "      <th>25%</th>\n",
       "      <td>6.100000</td>\n",
       "      <td>-73.992103</td>\n",
       "      <td>40.734890</td>\n",
       "      <td>-73.991481</td>\n",
       "      <td>40.734044</td>\n",
       "    </tr>\n",
       "    <tr>\n",
       "      <th>50%</th>\n",
       "      <td>8.500000</td>\n",
       "      <td>-73.981890</td>\n",
       "      <td>40.752672</td>\n",
       "      <td>-73.980078</td>\n",
       "      <td>40.753122</td>\n",
       "    </tr>\n",
       "    <tr>\n",
       "      <th>75%</th>\n",
       "      <td>13.700000</td>\n",
       "      <td>-73.967190</td>\n",
       "      <td>40.767137</td>\n",
       "      <td>-73.963695</td>\n",
       "      <td>40.768010</td>\n",
       "    </tr>\n",
       "    <tr>\n",
       "      <th>max</th>\n",
       "      <td>1456.600000</td>\n",
       "      <td>40.808197</td>\n",
       "      <td>90.016667</td>\n",
       "      <td>40.814702</td>\n",
       "      <td>407.000000</td>\n",
       "    </tr>\n",
       "  </tbody>\n",
       "</table>\n",
       "</div>"
      ],
      "text/plain": [
       "        fare_amount  pickup_longitude  pickup_latitude  dropoff_longitude  \\\n",
       "count  92160.000000     115000.000000    115000.000000      115000.000000   \n",
       "mean      16.431745        -72.559159        39.946204         -72.566149   \n",
       "std       32.339641         10.650615         6.020752          10.218077   \n",
       "min      -25.000000       -736.400000       -74.008970         -90.239125   \n",
       "25%        6.100000        -73.992103        40.734890         -73.991481   \n",
       "50%        8.500000        -73.981890        40.752672         -73.980078   \n",
       "75%       13.700000        -73.967190        40.767137         -73.963695   \n",
       "max     1456.600000         40.808197        90.016667          40.814702   \n",
       "\n",
       "       dropoff_latitude  \n",
       "count     115000.000000  \n",
       "mean          39.939186  \n",
       "std           11.215051  \n",
       "min        -3114.304848  \n",
       "25%           40.734044  \n",
       "50%           40.753122  \n",
       "75%           40.768010  \n",
       "max          407.000000  "
      ]
     },
     "execution_count": 399,
     "metadata": {},
     "output_type": "execute_result"
    }
   ],
   "source": [
    "df.describe()"
   ]
  },
  {
   "cell_type": "code",
   "execution_count": 400,
   "metadata": {},
   "outputs": [
    {
     "data": {
      "text/plain": [
       "np.int64(10217)"
      ]
     },
     "execution_count": 400,
     "metadata": {},
     "output_type": "execute_result"
    }
   ],
   "source": [
    "df.duplicated().sum()"
   ]
  },
  {
   "cell_type": "code",
   "execution_count": 401,
   "metadata": {},
   "outputs": [
    {
     "data": {
      "text/plain": [
       "key                      0\n",
       "fare_amount          22840\n",
       "pickup_datetime          0\n",
       "pickup_longitude         0\n",
       "pickup_latitude          0\n",
       "dropoff_longitude        0\n",
       "dropoff_latitude         0\n",
       "passenger_count      21926\n",
       "dtype: int64"
      ]
     },
     "execution_count": 401,
     "metadata": {},
     "output_type": "execute_result"
    }
   ],
   "source": [
    "df.isna().sum()"
   ]
  },
  {
   "cell_type": "markdown",
   "metadata": {},
   "source": [
    "# Data cleaning"
   ]
  },
  {
   "cell_type": "code",
   "execution_count": 402,
   "metadata": {},
   "outputs": [],
   "source": [
    "df.drop_duplicates(inplace=True)"
   ]
  },
  {
   "cell_type": "code",
   "execution_count": 403,
   "metadata": {},
   "outputs": [
    {
     "name": "stderr",
     "output_type": "stream",
     "text": [
      "/var/folders/cc/x70s24gx40zg_y7gzcpvs4400000gn/T/ipykernel_7464/192695924.py:3: FutureWarning: A value is trying to be set on a copy of a DataFrame or Series through chained assignment using an inplace method.\n",
      "The behavior will change in pandas 3.0. This inplace method will never work because the intermediate object on which we are setting values always behaves as a copy.\n",
      "\n",
      "For example, when doing 'df[col].method(value, inplace=True)', try using 'df.method({col: value}, inplace=True)' or df[col] = df[col].method(value) instead, to perform the operation inplace on the original object.\n",
      "\n",
      "\n",
      "  df['fare_amount'].fillna(value=mean_value, inplace=True)\n"
     ]
    }
   ],
   "source": [
    "mean_value = df['fare_amount'].mean() \n",
    "\n",
    "df['fare_amount'].fillna(value=mean_value, inplace=True) "
   ]
  },
  {
   "cell_type": "code",
   "execution_count": 404,
   "metadata": {},
   "outputs": [],
   "source": [
    "df.dropna(inplace=True)"
   ]
  },
  {
   "cell_type": "code",
   "execution_count": 405,
   "metadata": {},
   "outputs": [],
   "source": [
    "df = df[df[\"fare_amount\"]>0]"
   ]
  },
  {
   "cell_type": "code",
   "execution_count": 406,
   "metadata": {},
   "outputs": [
    {
     "data": {
      "text/plain": [
       "(84920, 8)"
      ]
     },
     "execution_count": 406,
     "metadata": {},
     "output_type": "execute_result"
    }
   ],
   "source": [
    "df.shape"
   ]
  },
  {
   "cell_type": "code",
   "execution_count": 407,
   "metadata": {},
   "outputs": [
    {
     "data": {
      "text/plain": [
       "array(['error_1.0', '1.0', '2.0', '5.0', '6.0', 'error_3.0', 'error_2.0',\n",
       "       '3.0', 'error_nan', '4.0', '0.0', 'error_4.0', 'error_5.0',\n",
       "       'error_6.0', 'error_0.0'], dtype=object)"
      ]
     },
     "execution_count": 407,
     "metadata": {},
     "output_type": "execute_result"
    }
   ],
   "source": [
    "df[\"passenger_count\"].unique()"
   ]
  },
  {
   "cell_type": "code",
   "execution_count": 408,
   "metadata": {},
   "outputs": [],
   "source": [
    "def to_numerique(string):\n",
    "    number = string.replace('error_',\"\")\n",
    "    return number"
   ]
  },
  {
   "cell_type": "code",
   "execution_count": 409,
   "metadata": {},
   "outputs": [
    {
     "name": "stderr",
     "output_type": "stream",
     "text": [
      "/var/folders/cc/x70s24gx40zg_y7gzcpvs4400000gn/T/ipykernel_7464/182853679.py:1: FutureWarning: using <function to_numerique at 0x17fc7e280> in Series.agg cannot aggregate and has been deprecated. Use Series.transform to keep behavior unchanged.\n",
      "  df[\"passenger_count\"] = df[\"passenger_count\"].agg(to_numerique)\n"
     ]
    }
   ],
   "source": [
    "df[\"passenger_count\"] = df[\"passenger_count\"].agg(to_numerique)\n",
    "\n",
    "df['passenger_count'] = pd.to_numeric(df['passenger_count'], errors='coerce')"
   ]
  },
  {
   "cell_type": "code",
   "execution_count": 410,
   "metadata": {},
   "outputs": [
    {
     "data": {
      "text/plain": [
       "key                     0\n",
       "fare_amount             0\n",
       "pickup_datetime         0\n",
       "pickup_longitude        0\n",
       "pickup_latitude         0\n",
       "dropoff_longitude       0\n",
       "dropoff_latitude        0\n",
       "passenger_count      1124\n",
       "dtype: int64"
      ]
     },
     "execution_count": 410,
     "metadata": {},
     "output_type": "execute_result"
    }
   ],
   "source": [
    "df.isna().sum()"
   ]
  },
  {
   "cell_type": "code",
   "execution_count": 411,
   "metadata": {},
   "outputs": [],
   "source": [
    "df.fillna(1,inplace=True)\n",
    "#df.dropna(inplace=True)"
   ]
  },
  {
   "cell_type": "code",
   "execution_count": 412,
   "metadata": {},
   "outputs": [
    {
     "data": {
      "text/plain": [
       "key                  323\n",
       "fare_amount          323\n",
       "pickup_datetime      323\n",
       "pickup_longitude     323\n",
       "pickup_latitude      323\n",
       "dropoff_longitude    323\n",
       "dropoff_latitude     323\n",
       "passenger_count      323\n",
       "dtype: int64"
      ]
     },
     "execution_count": 412,
     "metadata": {},
     "output_type": "execute_result"
    }
   ],
   "source": [
    "df[df[\"passenger_count\"]==0].count()"
   ]
  },
  {
   "cell_type": "code",
   "execution_count": 413,
   "metadata": {},
   "outputs": [],
   "source": [
    "df[df[\"passenger_count\"]==0]=1"
   ]
  },
  {
   "cell_type": "code",
   "execution_count": 414,
   "metadata": {},
   "outputs": [
    {
     "data": {
      "image/png": "[encoded data removed]",
      "text/plain": [
       "<Figure size 1000x800 with 1 Axes>"
      ]
     },
     "metadata": {},
     "output_type": "display_data"
    }
   ],
   "source": [
    "column = df[[\"pickup_longitude\",\"pickup_latitude\",\"dropoff_longitude\",\"dropoff_latitude\"]]\n",
    "plt.figure(figsize=(10, 8))\n",
    "column.boxplot()\n",
    "plt.title(\"Outliers\")\n",
    "plt.show()"
   ]
  },
  {
   "cell_type": "code",
   "execution_count": 415,
   "metadata": {},
   "outputs": [],
   "source": [
    "df = df[(df[\"pickup_longitude\"]>-200) & (df[\"dropoff_latitude\"]<200)]"
   ]
  },
  {
   "cell_type": "code",
   "execution_count": 416,
   "metadata": {},
   "outputs": [
    {
     "data": {
      "text/plain": [
       "(84916, 8)"
      ]
     },
     "execution_count": 416,
     "metadata": {},
     "output_type": "execute_result"
    }
   ],
   "source": [
    "df.shape"
   ]
  },
  {
   "cell_type": "code",
   "execution_count": 417,
   "metadata": {},
   "outputs": [
    {
     "data": {
      "image/png": "[encoded data removed]",
      "text/plain": [
       "<Figure size 640x480 with 1 Axes>"
      ]
     },
     "metadata": {},
     "output_type": "display_data"
    }
   ],
   "source": [
    "df[[\"fare_amount\"]].boxplot()\n",
    "plt.show()"
   ]
  },
  {
   "cell_type": "code",
   "execution_count": 418,
   "metadata": {},
   "outputs": [
    {
     "data": {
      "text/html": [
       "<div>\n",
       "<style scoped>\n",
       "    .dataframe tbody tr th:only-of-type {\n",
       "        vertical-align: middle;\n",
       "    }\n",
       "\n",
       "    .dataframe tbody tr th {\n",
       "        vertical-align: top;\n",
       "    }\n",
       "\n",
       "    .dataframe thead th {\n",
       "        text-align: right;\n",
       "    }\n",
       "</style>\n",
       "<table border=\"1\" class=\"dataframe\">\n",
       "  <thead>\n",
       "    <tr style=\"text-align: right;\">\n",
       "      <th></th>\n",
       "      <th>key</th>\n",
       "      <th>fare_amount</th>\n",
       "      <th>pickup_datetime</th>\n",
       "      <th>pickup_longitude</th>\n",
       "      <th>pickup_latitude</th>\n",
       "      <th>dropoff_longitude</th>\n",
       "      <th>dropoff_latitude</th>\n",
       "      <th>passenger_count</th>\n",
       "    </tr>\n",
       "  </thead>\n",
       "  <tbody>\n",
       "    <tr>\n",
       "      <th>0</th>\n",
       "      <td>2010-01-16 20:06:00.000000168</td>\n",
       "      <td>3.3</td>\n",
       "      <td>2010-01-16 20:06:00 UTC</td>\n",
       "      <td>-73.953323</td>\n",
       "      <td>40.778532</td>\n",
       "      <td>-73.953375</td>\n",
       "      <td>40.772505</td>\n",
       "      <td>1.0</td>\n",
       "    </tr>\n",
       "    <tr>\n",
       "      <th>1</th>\n",
       "      <td>2010-09-22 23:21:00.00000065</td>\n",
       "      <td>6.5</td>\n",
       "      <td>2010-09-22 23:21:00 UTC</td>\n",
       "      <td>-73.985542</td>\n",
       "      <td>40.738333</td>\n",
       "      <td>-74.003350</td>\n",
       "      <td>40.738935</td>\n",
       "      <td>1.0</td>\n",
       "    </tr>\n",
       "    <tr>\n",
       "      <th>2</th>\n",
       "      <td>2013-10-17 18:40:14.0000001</td>\n",
       "      <td>5.0</td>\n",
       "      <td>2013-10-17 18:40:14 UTC</td>\n",
       "      <td>-73.999945</td>\n",
       "      <td>40.718097</td>\n",
       "      <td>-73.999239</td>\n",
       "      <td>40.723103</td>\n",
       "      <td>1.0</td>\n",
       "    </tr>\n",
       "    <tr>\n",
       "      <th>4</th>\n",
       "      <td>2012-05-01 07:16:59.0000001</td>\n",
       "      <td>7.7</td>\n",
       "      <td>2012-05-01 07:16:59 UTC</td>\n",
       "      <td>-73.952835</td>\n",
       "      <td>40.786351</td>\n",
       "      <td>-73.974022</td>\n",
       "      <td>40.762765</td>\n",
       "      <td>1.0</td>\n",
       "    </tr>\n",
       "    <tr>\n",
       "      <th>5</th>\n",
       "      <td>2014-01-26 20:28:28.0000003</td>\n",
       "      <td>4.0</td>\n",
       "      <td>2014-01-26 20:28:28 UTC</td>\n",
       "      <td>-73.956368</td>\n",
       "      <td>40.763146</td>\n",
       "      <td>-73.952015</td>\n",
       "      <td>40.769203</td>\n",
       "      <td>1.0</td>\n",
       "    </tr>\n",
       "    <tr>\n",
       "      <th>...</th>\n",
       "      <td>...</td>\n",
       "      <td>...</td>\n",
       "      <td>...</td>\n",
       "      <td>...</td>\n",
       "      <td>...</td>\n",
       "      <td>...</td>\n",
       "      <td>...</td>\n",
       "      <td>...</td>\n",
       "    </tr>\n",
       "    <tr>\n",
       "      <th>114965</th>\n",
       "      <td>2013-11-24 01:53:21.0000002</td>\n",
       "      <td>8.5</td>\n",
       "      <td>2013-11-24 01:53:21 UTC</td>\n",
       "      <td>-73.999000</td>\n",
       "      <td>40.734356</td>\n",
       "      <td>-73.973676</td>\n",
       "      <td>40.750713</td>\n",
       "      <td>1.0</td>\n",
       "    </tr>\n",
       "    <tr>\n",
       "      <th>114970</th>\n",
       "      <td>2011-03-27 10:41:00.000000154</td>\n",
       "      <td>5.3</td>\n",
       "      <td>2011-03-27</td>\n",
       "      <td>-73.988350</td>\n",
       "      <td>40.718748</td>\n",
       "      <td>-74.000517</td>\n",
       "      <td>40.725620</td>\n",
       "      <td>5.0</td>\n",
       "    </tr>\n",
       "    <tr>\n",
       "      <th>114975</th>\n",
       "      <td>2010-10-06 06:27:00.00000055</td>\n",
       "      <td>6.1</td>\n",
       "      <td>2010-10-06 06:27:00 UTC</td>\n",
       "      <td>-73.990563</td>\n",
       "      <td>40.750887</td>\n",
       "      <td>-73.974018</td>\n",
       "      <td>40.752912</td>\n",
       "      <td>1.0</td>\n",
       "    </tr>\n",
       "    <tr>\n",
       "      <th>114987</th>\n",
       "      <td>2011-10-07 22:39:00.000000134</td>\n",
       "      <td>9.7</td>\n",
       "      <td>2011-10-07 22:39:00 UTC</td>\n",
       "      <td>0.000000</td>\n",
       "      <td>0.000000</td>\n",
       "      <td>0.000000</td>\n",
       "      <td>0.000000</td>\n",
       "      <td>5.0</td>\n",
       "    </tr>\n",
       "    <tr>\n",
       "      <th>114990</th>\n",
       "      <td>2015-03-26 18:42:05.0000002</td>\n",
       "      <td>7.0</td>\n",
       "      <td>2015-03-26 18:42:05 UTC</td>\n",
       "      <td>-74.003532</td>\n",
       "      <td>40.732536</td>\n",
       "      <td>-74.002800</td>\n",
       "      <td>40.718334</td>\n",
       "      <td>2.0</td>\n",
       "    </tr>\n",
       "  </tbody>\n",
       "</table>\n",
       "<p>39491 rows × 8 columns</p>\n",
       "</div>"
      ],
      "text/plain": [
       "                                  key  fare_amount          pickup_datetime  \\\n",
       "0       2010-01-16 20:06:00.000000168          3.3  2010-01-16 20:06:00 UTC   \n",
       "1        2010-09-22 23:21:00.00000065          6.5  2010-09-22 23:21:00 UTC   \n",
       "2         2013-10-17 18:40:14.0000001          5.0  2013-10-17 18:40:14 UTC   \n",
       "4         2012-05-01 07:16:59.0000001          7.7  2012-05-01 07:16:59 UTC   \n",
       "5         2014-01-26 20:28:28.0000003          4.0  2014-01-26 20:28:28 UTC   \n",
       "...                               ...          ...                      ...   \n",
       "114965    2013-11-24 01:53:21.0000002          8.5  2013-11-24 01:53:21 UTC   \n",
       "114970  2011-03-27 10:41:00.000000154          5.3               2011-03-27   \n",
       "114975   2010-10-06 06:27:00.00000055          6.1  2010-10-06 06:27:00 UTC   \n",
       "114987  2011-10-07 22:39:00.000000134          9.7  2011-10-07 22:39:00 UTC   \n",
       "114990    2015-03-26 18:42:05.0000002          7.0  2015-03-26 18:42:05 UTC   \n",
       "\n",
       "        pickup_longitude  pickup_latitude  dropoff_longitude  \\\n",
       "0             -73.953323        40.778532         -73.953375   \n",
       "1             -73.985542        40.738333         -74.003350   \n",
       "2             -73.999945        40.718097         -73.999239   \n",
       "4             -73.952835        40.786351         -73.974022   \n",
       "5             -73.956368        40.763146         -73.952015   \n",
       "...                  ...              ...                ...   \n",
       "114965        -73.999000        40.734356         -73.973676   \n",
       "114970        -73.988350        40.718748         -74.000517   \n",
       "114975        -73.990563        40.750887         -73.974018   \n",
       "114987          0.000000         0.000000           0.000000   \n",
       "114990        -74.003532        40.732536         -74.002800   \n",
       "\n",
       "        dropoff_latitude  passenger_count  \n",
       "0              40.772505              1.0  \n",
       "1              40.738935              1.0  \n",
       "2              40.723103              1.0  \n",
       "4              40.762765              1.0  \n",
       "5              40.769203              1.0  \n",
       "...                  ...              ...  \n",
       "114965         40.750713              1.0  \n",
       "114970         40.725620              5.0  \n",
       "114975         40.752912              1.0  \n",
       "114987          0.000000              5.0  \n",
       "114990         40.718334              2.0  \n",
       "\n",
       "[39491 rows x 8 columns]"
      ]
     },
     "execution_count": 418,
     "metadata": {},
     "output_type": "execute_result"
    }
   ],
   "source": [
    "df = df[df['fare_amount']<10]\n",
    "df"
   ]
  },
  {
   "cell_type": "code",
   "execution_count": 419,
   "metadata": {},
   "outputs": [],
   "source": [
    "zero_row_values = (df['pickup_longitude']==0) & (df['pickup_longitude']==0)&(df['dropoff_longitude']==0) & (df['dropoff_latitude']==0)\n",
    "\n",
    "df = df[~zero_row_values]\n"
   ]
  },
  {
   "cell_type": "markdown",
   "metadata": {},
   "source": [
    "# Data visualization"
   ]
  },
  {
   "cell_type": "code",
   "execution_count": 420,
   "metadata": {},
   "outputs": [
    {
     "data": {
      "image/png": "[encoded data removed]",
      "text/plain": [
       "<Figure size 1000x800 with 2 Axes>"
      ]
     },
     "metadata": {},
     "output_type": "display_data"
    }
   ],
   "source": [
    "column = [\"fare_amount\",\"pickup_longitude\",\"pickup_latitude\",\"dropoff_longitude\",\"dropoff_latitude\",\"passenger_count\"]\n",
    "corr = df[column].corr()\n",
    "plt.figure(figsize=(10, 8))\n",
    "sns.heatmap(corr, annot=True, cmap='coolwarm', linewidths=0.5)\n",
    "plt.title('Correlation Analysis')\n",
    "plt.show()"
   ]
  },
  {
   "cell_type": "markdown",
   "metadata": {},
   "source": [
    "# Fitting models"
   ]
  },
  {
   "cell_type": "code",
   "execution_count": 421,
   "metadata": {},
   "outputs": [],
   "source": [
    "\n",
    "X = df.drop(columns=[\"fare_amount\",\"key\",\"pickup_datetime\"])\n",
    "y = df['fare_amount']\n",
    "\n",
    "X_train, X_test, y_train, y_test = train_test_split(X, y, test_size=0.2, random_state=9)"
   ]
  },
  {
   "cell_type": "code",
   "execution_count": 422,
   "metadata": {},
   "outputs": [],
   "source": [
    "def evaluate_model(model, X_train, X_test, y_train, y_test):\n",
    "    model.fit(X_train, y_train)\n",
    "    y_pred = model.predict(X_test)\n",
    "    mse = MSE(y_test, y_pred)\n",
    "    return mse"
   ]
  },
  {
   "cell_type": "code",
   "execution_count": 423,
   "metadata": {},
   "outputs": [],
   "source": [
    "scaler = StandardScaler()\n",
    "X_train = scaler.fit_transform(X_train)\n",
    "X_test = scaler.transform(X_test)\n"
   ]
  },
  {
   "cell_type": "code",
   "execution_count": 424,
   "metadata": {},
   "outputs": [],
   "source": [
    "rf = RandomForestRegressor(n_estimators=10,random_state=9)\n",
    "\n",
    "dt = DecisionTreeRegressor(max_depth=10,min_samples_leaf=0.13,random_state=9)\n",
    "\n",
    "gb = GradientBoostingRegressor(max_depth=6,n_estimators=10,random_state=9)\n",
    "\n",
    "linr = LinearRegression()\n",
    "\n",
    "lasso = Lasso()\n",
    "\n",
    "ridge = Ridge(alpha=100)\n",
    "\n"
   ]
  },
  {
   "cell_type": "code",
   "execution_count": 426,
   "metadata": {},
   "outputs": [
    {
     "data": {
      "text/plain": [
       "{'Decision Tree Regressor': np.float64(3.2483176113149694),\n",
       " 'Gradient Boosting Regressor': np.float64(2.5907797861282456),\n",
       " 'Random Forest Regressor': np.float64(1.450327493328707),\n",
       " 'Linear Regression': np.float64(3.107967523828329),\n",
       " 'Lasso': np.float64(3.328521405720278),\n",
       " 'Ridge': np.float64(3.108216737919843)}"
      ]
     },
     "execution_count": 426,
     "metadata": {},
     "output_type": "execute_result"
    }
   ],
   "source": [
    "models = [('Decision Tree Regressor', dt), ('Gradient Boosting Regressor', gb),('Random Forest Regressor', rf),('Linear Regression', linr), ('Lasso', lasso),('Ridge', ridge)]\n",
    "\n",
    "mse = {}\n",
    "\n",
    "for name,model in models:\n",
    "    mse[name] = evaluate_model(model, X_train, X_test, y_train, y_test)\n",
    "\n",
    "\n",
    "mse"
   ]
  },
  {
   "cell_type": "code",
   "execution_count": 427,
   "metadata": {},
   "outputs": [
    {
     "data": {
      "text/plain": [
       "np.float64(3.19678262284118)"
      ]
     },
     "execution_count": 427,
     "metadata": {},
     "output_type": "execute_result"
    }
   ],
   "source": [
    "MSE_CV_scores = - cross_val_score(dt, X_train, y_train, cv=10, \n",
    "                       scoring='neg_mean_squared_error',\n",
    "                       n_jobs=-1)\n",
    "MSE_CV_scores.mean()"
   ]
  },
  {
   "cell_type": "code",
   "execution_count": 428,
   "metadata": {},
   "outputs": [
    {
     "data": {
      "text/plain": [
       "0.0270516139982242"
      ]
     },
     "execution_count": 428,
     "metadata": {},
     "output_type": "execute_result"
    }
   ],
   "source": [
    "r_squared = dt.score(X_train, y_train)\n",
    "r_squared"
   ]
  },
  {
   "cell_type": "code",
   "execution_count": 438,
   "metadata": {},
   "outputs": [
    {
     "data": {
      "image/png": "[encoded data removed]",
      "text/plain": [
       "<Figure size 1600x800 with 1 Axes>"
      ]
     },
     "metadata": {},
     "output_type": "display_data"
    }
   ],
   "source": [
    "data = dict(sorted(mse.items(), key=lambda key_val: key_val[1]))\n",
    "\n",
    "names = list(data.keys())\n",
    "values = list(data.values())\n",
    "\n",
    "plt.figure(figsize=(16, 8))\n",
    "plt.title('MSE value of models')\n",
    "plt.xlabel(\"models\")\n",
    "plt.ylabel('MSE')\n",
    "plt.bar(range(len(data)), values, tick_label=names)\n",
    "plt.show()"
   ]
  }
 ],
 "metadata": {
  "kernelspec": {
   "display_name": "Python 3",
   "language": "python",
   "name": "python3"
  },
  "language_info": {
   "codemirror_mode": {
    "name": "ipython",
    "version": 3
   },
   "file_extension": ".py",
   "mimetype": "text/x-python",
   "name": "python",
   "nbconvert_exporter": "python",
   "pygments_lexer": "ipython3",
   "version": "3.9.6"
  }
 },
 "nbformat": 4,
 "nbformat_minor": 2
}
